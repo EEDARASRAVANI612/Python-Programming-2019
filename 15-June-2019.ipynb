{
 "cells": [
  {
   "cell_type": "markdown",
   "metadata": {},
   "source": [
    "#### Problem-ClosestZero \n",
    "\n",
    "you have been given an integer array A of size N.You need to print the \n",
    "there are multiple elements,print the numbers with greater value.\n",
    "\n",
    "**Input format**\n",
    "The first line contains a single integer N denoting the size of array A\n",
    "The next line contains N space seperated interger denoting the element \n",
    "\n",
    "**Explanation**\n",
    "- li=[3,2,-1,-2,-3] (original list) ->-1\n",
    "- sort the data\n",
    "- li=[-3,-2,-1,2,3] (Sorted list)\n",
    "- pl=[1,2,2,3,3] (Positive List)\n",
    "- pl[0] -> Check if this number is -ve or +ve in the \n",
    "- if pl[0] in the li:\n",
    "    - return pl[0]\n",
    "- else \n",
    "    - return -pl[0]"
   ]
  },
  {
   "cell_type": "code",
   "execution_count": 6,
   "metadata": {},
   "outputs": [
    {
     "name": "stdout",
     "output_type": "stream",
     "text": [
      "1\n"
     ]
    }
   ],
   "source": [
    "\n",
    "li=[-1,-2,2,3,1]\n",
    "\n",
    "li.sort\n",
    "\n",
    "pl =[]\n",
    "\n",
    "for i in li:\n",
    "    pl.append(abs(i))\n",
    "    \n",
    "pl.sort\n",
    "if pl[0] in li:\n",
    "    print(pl[0])\n",
    "else:\n",
    "    print(-pl[0])"
   ]
  },
  {
   "cell_type": "code",
   "execution_count": 9,
   "metadata": {},
   "outputs": [
    {
     "name": "stdout",
     "output_type": "stream",
     "text": [
      "-1\n"
     ]
    }
   ],
   "source": [
    "#lesser value\n",
    "\n",
    "li=[-1,-2,2,3,1]\n",
    "\n",
    "li.sort\n",
    "\n",
    "pl =[]\n",
    "\n",
    "for i in li:\n",
    "    pl.append(abs(i))\n",
    "    \n",
    "pl.sort\n",
    "if -pl[0] in li:\n",
    "    print(-pl[0])\n",
    "else:\n",
    "    print(pl[0])\n"
   ]
  },
  {
   "cell_type": "code",
   "execution_count": 1,
   "metadata": {},
   "outputs": [
    {
     "name": "stdout",
     "output_type": "stream",
     "text": [
      "9\n"
     ]
    }
   ],
   "source": [
    "#FarthestFromZero\n",
    "\n",
    "li=[-1,-2,1,-10,9]\n",
    "li.sort\n",
    "\n",
    "pl =[]\n",
    "\n",
    "for i in li:\n",
    "    pl.append(abs(i))\n",
    "    \n",
    "pl.sort\n",
    "if pl[-1] in li:\n",
    "    print(pl[-1])\n",
    "else:\n",
    "    print(-pl[-1])\n"
   ]
  },
  {
   "cell_type": "markdown",
   "metadata": {},
   "source": [
    "### Problem-3\n",
    "you are given three numbers a,b and c.\n",
    "write a program to find the largest number which is less than or equal to c and leaves remainder b when divided by a.\n",
    "\n",
    "- 3 2 9\n",
    "    - 9 % 3 == 0\n",
    "    - 8 % 3 == 2\n",
    "\n",
    "\n",
    "- 1 2 4\n",
    "    - 4 % 1 == 0\n",
    "    - 3 % 1 == 0\n",
    "    - 2 % 1 == 0\n",
    "    - 1 % 1 == 0\n",
    "    - 0 % 0 == 0\n",
    "    - -1 % 1 == 0\n"
   ]
  },
  {
   "cell_type": "code",
   "execution_count": 18,
   "metadata": {},
   "outputs": [
    {
     "data": {
      "text/plain": [
       "-1"
      ]
     },
     "execution_count": 18,
     "metadata": {},
     "output_type": "execute_result"
    }
   ],
   "source": [
    "def largestnum(a,b,c):\n",
    "    for i in range(c,a-1,-1):\n",
    "        if i%a==b:\n",
    "            return i\n",
    "    return -1\n",
    "largestnum(1,2,4)   "
   ]
  },
  {
   "cell_type": "markdown",
   "metadata": {},
   "source": [
    "# Tasks"
   ]
  },
  {
   "cell_type": "code",
   "execution_count": 3,
   "metadata": {},
   "outputs": [
    {
     "name": "stdout",
     "output_type": "stream",
     "text": [
      "6\n",
      "2 3 5 "
     ]
    }
   ],
   "source": [
    "#You are given an integer N. You need to print the series of all prime numbers till N.\n",
    "\n",
    "# Input Format\n",
    "\n",
    "#The first and only line of the input contains a single integer N denoting the number till where you need to find the series of prime number.\n",
    "\n",
    "#Output Format:\n",
    "#Print the desired output in single line separated by spaces.\n",
    "\n",
    "def isprimenum(n):\n",
    "    for i in range(2,n):\n",
    "        if (n%i==0):\n",
    "            return False\n",
    "    return True\n",
    "def primenumber(n):\n",
    "    for i in range(2,n+1):\n",
    "        if isprimenum(i):\n",
    "            print(i,end=\" \")\n",
    "n=int(input())\n",
    "primenumber(n)"
   ]
  },
  {
   "cell_type": "code",
   "execution_count": 1,
   "metadata": {},
   "outputs": [
    {
     "name": "stdout",
     "output_type": "stream",
     "text": [
      "aBc\n",
      "AbC\n"
     ]
    }
   ],
   "source": [
    "# You have been given a String S consisting of uppercase and lowercase English alphabets.\n",
    "#You need to change the case of each alphabet in this String. \n",
    "#That is, all the uppercase letters should be converted to lowercase and all the lowercase letters should be converted to uppercase. You need to then print the resultant String to output.\n",
    "\n",
    "# Input Format\n",
    "# The first and only line of input contains the String S\n",
    "\n",
    "#Output Format\n",
    "#Print the resultant String on a single line.\n",
    "\n",
    "s=input()\n",
    "def toggleString(s):\n",
    "    print(s.swapcase())\n",
    "toggleString(s)"
   ]
  },
  {
   "cell_type": "code",
   "execution_count": null,
   "metadata": {},
   "outputs": [],
   "source": []
  },
  {
   "cell_type": "code",
   "execution_count": 1,
   "metadata": {},
   "outputs": [
    {
     "name": "stdout",
     "output_type": "stream",
     "text": [
      "aba\n",
      "4\n"
     ]
    }
   ],
   "source": [
    " def charsum(s):\n",
    "    sum=0\n",
    "    for i in s:\n",
    "        sum=sum+(ord(i)-96)\n",
    "    print(sum)\n",
    "s=input()\n",
    "charsum(s)"
   ]
  },
  {
   "cell_type": "code",
   "execution_count": 6,
   "metadata": {},
   "outputs": [
    {
     "name": "stdout",
     "output_type": "stream",
     "text": [
      "1\n",
      "abc cab\n",
      "YES\n"
     ]
    }
   ],
   "source": [
    "def twoString(s1,s2):\n",
    "    count = 0\n",
    "    l1 = []\n",
    "    l2 = []\n",
    "    for i in s1:\n",
    "        l1.append(i)\n",
    "    for j in s2:\n",
    "        l2.append(j)\n",
    "    l1.sort()\n",
    "    l2.sort()\n",
    "    if l1 == l2:\n",
    "        print(\"YES\")\n",
    "    else:\n",
    "        print(\"NO\")\n",
    "        \n",
    "n = int(input())\n",
    "for i in range(n):\n",
    "    s = input()\n",
    "    l = s.split()\n",
    "    twoString(l[0],l[1])"
   ]
  },
  {
   "cell_type": "code",
   "execution_count": 7,
   "metadata": {},
   "outputs": [
    {
     "name": "stdout",
     "output_type": "stream",
     "text": [
      "5\n",
      "120\n"
     ]
    }
   ],
   "source": [
    "def factorial(n):\n",
    "    s=1\n",
    "    for i in range(1,n+1):\n",
    "        s=s*i\n",
    "    print(s)\n",
    "n=int(input())\n",
    "factorial(n)"
   ]
  },
  {
   "cell_type": "code",
   "execution_count": 8,
   "metadata": {},
   "outputs": [
    {
     "name": "stdout",
     "output_type": "stream",
     "text": [
      "1 10 1\n",
      "10\n"
     ]
    }
   ],
   "source": [
    " def countDivisors(i,j,k):\n",
    "    count=0\n",
    "    for n in range(i,j+1):\n",
    "        if n%k==0:\n",
    "            count+=1\n",
    "    print(count)\n",
    "s=input()\n",
    "s=s.split()\n",
    "i=int(s[0])\n",
    "j=int(s[1])\n",
    "k=int(s[2])\n",
    "countDivisors(i,j,k)"
   ]
  },
  {
   "cell_type": "code",
   "execution_count": 11,
   "metadata": {},
   "outputs": [
    {
     "name": "stdout",
     "output_type": "stream",
     "text": [
      "1\n",
      "1 44 2 14\n",
      "0 30\n"
     ]
    }
   ],
   "source": [
    "def timeDiff(sh,sm,eh,em):\n",
    "    th = abs(sh-eh) -1\n",
    "    tm = abs(60 - sm)+em\n",
    "    if tm >=60:\n",
    "        th+=1\n",
    "        tm=abs(60-tm)\n",
    "    print(th, end=\" \")\n",
    "    print(tm)\n",
    "\n",
    "n = int(input())\n",
    "for i in range(n):\n",
    "    n1 = input().split()\n",
    "    \n",
    "    sh = int(n1[0])\n",
    "    sm = int(n1[1])\n",
    "    eh = int(n1[2])\n",
    "    em = int(n1[3])\n",
    "    \n",
    "    timeDiff(sh,sm,eh,em)"
   ]
  },
  {
   "cell_type": "code",
   "execution_count": null,
   "metadata": {},
   "outputs": [],
   "source": []
  }
 ],
 "metadata": {
  "kernelspec": {
   "display_name": "Python 3",
   "language": "python",
   "name": "python3"
  },
  "language_info": {
   "codemirror_mode": {
    "name": "ipython",
    "version": 3
   },
   "file_extension": ".py",
   "mimetype": "text/x-python",
   "name": "python",
   "nbconvert_exporter": "python",
   "pygments_lexer": "ipython3",
   "version": "3.7.3"
  }
 },
 "nbformat": 4,
 "nbformat_minor": 2
}
