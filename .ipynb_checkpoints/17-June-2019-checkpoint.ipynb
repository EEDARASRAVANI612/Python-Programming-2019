{
 "cells": [
  {
   "cell_type": "markdown",
   "metadata": {},
   "source": [
    "### Problem: Toggle String"
   ]
  },
  {
   "cell_type": "code",
   "execution_count": 1,
   "metadata": {},
   "outputs": [
    {
     "data": {
      "text/plain": [
       "['a', 'B', 'c']"
      ]
     },
     "execution_count": 1,
     "metadata": {},
     "output_type": "execute_result"
    }
   ],
   "source": [
    "s=\"aBc\"\n",
    "\n",
    "s.islower() #Check the case of a character\n",
    "s.isupper()\n",
    "\n",
    "s.lower() #convert a character to lowercase\n",
    "s.upper() #convert a character to upper case\n",
    "list(s)"
   ]
  },
  {
   "cell_type": "code",
   "execution_count": null,
   "metadata": {},
   "outputs": [],
   "source": [
    "#Function to Toggle String characters\n",
    "def toggleString(s):\n",
    "    #Convert the string into s list of characters\n",
    "    s=list(s)\n",
    "    t=[]\n",
    "    for c in s:\n",
    "        if c.islower():\n",
    "            t.append(c.upper())\n",
    "        else:\n",
    "            t.append(c.lower())\n",
    "    return \"\".join(t)\n",
    "toggleString(s)"
   ]
  },
  {
   "cell_type": "code",
   "execution_count": null,
   "metadata": {},
   "outputs": [],
   "source": [
    "def toggleString(s):\n",
    "    #Convert the string into s list of characters\n",
    "    #s=list(s)\n",
    "    t=\"\"\n",
    "    for c in s:\n",
    "        if c.islower():\n",
    "            t+=c.upper()\n",
    "        else:\n",
    "            t+=c.lower()\n",
    "    print(t)\n",
    "toggleString(s)"
   ]
  },
  {
   "cell_type": "code",
   "execution_count": null,
   "metadata": {},
   "outputs": [],
   "source": []
  },
  {
   "cell_type": "markdown",
   "metadata": {},
   "source": [
    "### Problem: Duration\n",
    "\n",
    "**Input**: start time,end time (HH MM)\n",
    "-        HH - {00,01,02,03..23}\n",
    "-        MM - {00,01,02,03,..59}\n",
    "-        HH MM - {00 00, 23 59}\n",
    "        \n",
    "**Output**: time differences in HH MM"
   ]
  },
  {
   "cell_type": "code",
   "execution_count": 5,
   "metadata": {},
   "outputs": [
    {
     "name": "stdout",
     "output_type": "stream",
     "text": [
      "0 30\n"
     ]
    }
   ],
   "source": [
    "#Calculate the time difference as total number of\n",
    "#Convert the total minutes into HH MM\n",
    "def minutesDifference(s):\n",
    "    s=s.split()\n",
    "    sh=int(s[0])\n",
    "    sm=int(s[1])\n",
    "    eh=int(s[2])\n",
    "    em=int(s[3])\n",
    "    startminutes=(sh*60)+sm\n",
    "    endminutes=(eh*60)+em\n",
    "    return endminutes-startminutes\n",
    "           \n",
    "def outputTimeFormat(minutes):\n",
    "           #Convert minutes to HH MM\n",
    "           hh = minutes // 60\n",
    "           mm = minutes % 60\n",
    "           print(hh,mm)\n",
    "minutes=minutesDifference(s)\n",
    "outputTimeFormat(minutes)"
   ]
  },
  {
   "cell_type": "code",
   "execution_count": null,
   "metadata": {},
   "outputs": [],
   "source": []
  },
  {
   "cell_type": "markdown",
   "metadata": {},
   "source": [
    "### Play with Numbers"
   ]
  },
  {
   "cell_type": "code",
   "execution_count": null,
   "metadata": {},
   "outputs": [],
   "source": []
  },
  {
   "cell_type": "markdown",
   "metadata": {},
   "source": [
    "### Primefactors"
   ]
  },
  {
   "cell_type": "markdown",
   "metadata": {},
   "source": [
    "## def isprime(n):\n",
    "    for j in range(2,n):\n",
    "        if n%i==0:\n",
    "            return False\n",
    "    return True\n",
    "def primefactors(p,t,n):\n",
    "    c=0\n",
    "    for j in range(2,n):\n",
    "        if(n%2!=0):\n",
    "            if isprime(j):\n",
    "                c=c+1\n",
    "    if c==p:\n",
    "        print(\"YES\")\n",
    "    else:\n",
    "        print(\"NO\")\n",
    "    \n",
    "            \n",
    "p=int(input())\n",
    "t=int(input())\n",
    "for i in range(1,t+1):\n",
    "    n=int(input())\n",
    "    primefactors(p,t,n)"
   ]
  },
  {
   "cell_type": "markdown",
   "metadata": {},
   "source": [
    "## "
   ]
  }
 ],
 "metadata": {
  "kernelspec": {
   "display_name": "Python 3",
   "language": "python",
   "name": "python3"
  },
  "language_info": {
   "codemirror_mode": {
    "name": "ipython",
    "version": 3
   },
   "file_extension": ".py",
   "mimetype": "text/x-python",
   "name": "python",
   "nbconvert_exporter": "python",
   "pygments_lexer": "ipython3",
   "version": "3.7.3"
  }
 },
 "nbformat": 4,
 "nbformat_minor": 2
}
