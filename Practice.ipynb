{
 "cells": [
  {
   "cell_type": "markdown",
   "metadata": {},
   "source": [
    "### Practice"
   ]
  },
  {
   "cell_type": "code",
   "execution_count": null,
   "metadata": {},
   "outputs": [],
   "source": [
    "def url(t,s):\n",
    "    a={}\n",
    "    for j in l:\n",
    "        if j not in a:\n",
    "            a[j]=1\n",
    "        else:\n",
    "            a[j]+=1\n",
    "    maxfre=max(a.values())\n",
    "    print(maxfre)\n",
    "    for item in a.items():\n",
    "        sort=sorted(a.values())\n",
    "    for i in s:\n",
    "        sort=s[i]\n",
    "        print(sort)\n",
    "        \n",
    "t=int(input())\n",
    "l=[]\n",
    "for i in range(t):\n",
    "    s=input()\n",
    "    l.append(s)\n",
    "url(t,s)"
   ]
  },
  {
   "cell_type": "code",
   "execution_count": 18,
   "metadata": {},
   "outputs": [
    {
     "name": "stdout",
     "output_type": "stream",
     "text": [
      "4\n",
      "google\n",
      "gooele\n",
      "google\n",
      "google\n",
      "3\n"
     ]
    }
   ],
   "source": [
    "def url(t,s):\n",
    "    a=[]\n",
    "    c=[]\n",
    "    for j in l:\n",
    "        if j not in a:\n",
    "            a.append(j)\n",
    "    for i in a:\n",
    "        c.append(l.count(i))\n",
    "    print(max(c))\n",
    "\n",
    "t=int(input())\n",
    "l=[]\n",
    "for i in range(t):\n",
    "    s=input()\n",
    "    l.append(s)\n",
    "url(t,s)"
   ]
  },
  {
   "cell_type": "code",
   "execution_count": 6,
   "metadata": {},
   "outputs": [
    {
     "name": "stdout",
     "output_type": "stream",
     "text": [
      "9\n"
     ]
    }
   ],
   "source": [
    "n=[-5,2,9]\n",
    "sn=sorted(n)\n",
    "p=abs(min(sn))\n",
    "m=max(sn)\n",
    "if p>m:\n",
    "    print(sn[0])\n",
    "else:\n",
    "    print(m)"
   ]
  },
  {
   "cell_type": "code",
   "execution_count": null,
   "metadata": {},
   "outputs": [],
   "source": [
    "def highestRemainder(n): \n",
    "    hr=0\n",
    "    for i in range(n-1,n//2,-1):\n",
    "        r=n%i\n",
    "        if r>hr:\n",
    "            hr=r\n",
    "    print(i)\n",
    "    return\n",
    "n=int(input())   \n",
    "highestRemainder(n)   "
   ]
  },
  {
   "cell_type": "code",
   "execution_count": null,
   "metadata": {},
   "outputs": [],
   "source": [
    "def cipher(s,n):\n",
    "    for i in range(0,len(s))\n",
    "    if s.isdigit(i):\n",
    "        if i-n>0:\n",
    "            print()\n",
    "        else:\n",
    "            \n",
    "            \n",
    "    \n",
    "            \n",
    "            \n",
    "        \n",
    "    \n",
    "s=All-convoYs-9-be:Alert1\n",
    "n=5"
   ]
  }
 ],
 "metadata": {
  "kernelspec": {
   "display_name": "Python 3",
   "language": "python",
   "name": "python3"
  },
  "language_info": {
   "codemirror_mode": {
    "name": "ipython",
    "version": 3
   },
   "file_extension": ".py",
   "mimetype": "text/x-python",
   "name": "python",
   "nbconvert_exporter": "python",
   "pygments_lexer": "ipython3",
   "version": "3.7.3"
  }
 },
 "nbformat": 4,
 "nbformat_minor": 2
}
