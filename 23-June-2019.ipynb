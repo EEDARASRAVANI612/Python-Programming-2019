{
 "cells": [
  {
   "cell_type": "markdown",
   "metadata": {},
   "source": [
    "### K - Jump\n",
    "\n",
    "- Given an array A of size N, you can jump from an index i to another index j if A[j]-A[j]>=K , for  j>i . Find the length of the longest sequence of jumps that can be possible in the array. You can start at any index.\n",
    "\n",
    "- Input Format:\n",
    "\n",
    "    - First line contains an integer K.\n",
    "\n",
    "    - Second line contains the integer N .\n",
    "\n",
    "    - Third line contains N space separated integers (The array A)\n",
    "\n",
    "- Output Format:\n",
    "\n",
    "    - Print the required length."
   ]
  },
  {
   "cell_type": "code",
   "execution_count": null,
   "metadata": {},
   "outputs": [],
   "source": []
  }
 ],
 "metadata": {
  "kernelspec": {
   "display_name": "Python 3",
   "language": "python",
   "name": "python3"
  },
  "language_info": {
   "codemirror_mode": {
    "name": "ipython",
    "version": 3
   },
   "file_extension": ".py",
   "mimetype": "text/x-python",
   "name": "python",
   "nbconvert_exporter": "python",
   "pygments_lexer": "ipython3",
   "version": "3.7.3"
  }
 },
 "nbformat": 4,
 "nbformat_minor": 2
}
