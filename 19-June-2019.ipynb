{
 "cells": [
  {
   "cell_type": "markdown",
   "metadata": {},
   "source": [
    "### e-maze-in"
   ]
  },
  {
   "cell_type": "code",
   "execution_count": 1,
   "metadata": {},
   "outputs": [
    {
     "name": "stdout",
     "output_type": "stream",
     "text": [
      "0 -2\n"
     ]
    }
   ],
   "source": [
    "def emaze(s):\n",
    "    x=0\n",
    "    y=0\n",
    "    for i in s:\n",
    "        if(i=='L'):\n",
    "            x-=1\n",
    "        elif i=='R':\n",
    "            x+=1\n",
    "        elif i=='D':\n",
    "            y-=1\n",
    "        else:\n",
    "            y+=1\n",
    "    print(x,y)\n",
    "\n",
    "emaze(\"LLRDDR\")\n"
   ]
  },
  {
   "cell_type": "markdown",
   "metadata": {},
   "source": [
    "### Anagrams"
   ]
  },
  {
   "cell_type": "code",
   "execution_count": null,
   "metadata": {},
   "outputs": [],
   "source": [
    "def anagrams(t,s1,s2):\n",
    "    l1=[]\n",
    "    l2=[]\n",
    "    c=0\n",
    "    for i in s1:\n",
    "        l1.append(i)\n",
    "    l1.sort()\n",
    "    for j in s2:\n",
    "        l2.append(j)\n",
    "    l2.sort()\n",
    "    for d in l1:\n",
    "            if d in l2:\n",
    "                f=0\n",
    "            else:\n",
    "                c=c+1\n",
    "    print(c)\n",
    "t=int(input())\n",
    "for i in range(1,t+1):\n",
    "    s1=input()\n",
    "    s2=input()\n",
    "    anagrams(t,s1,s2)\n"
   ]
  },
  {
   "cell_type": "markdown",
   "metadata": {},
   "source": [
    "### Seating Arrangement"
   ]
  },
  {
   "cell_type": "code",
   "execution_count": null,
   "metadata": {},
   "outputs": [],
   "source": [
    "#Seating arrangements\n",
    "\n",
    "def SeatingArrangement(t,n):\n",
    "    \n",
    "    \n",
    "t=int(input())\n",
    "for i in range(1,t+1):\n",
    "    n=int(input())\n",
    "    SeatingArrangement(t,n)"
   ]
  },
  {
   "cell_type": "markdown",
   "metadata": {},
   "source": [
    "### Bricks game"
   ]
  },
  {
   "cell_type": "code",
   "execution_count": 8,
   "metadata": {},
   "outputs": [
    {
     "name": "stdout",
     "output_type": "stream",
     "text": [
      "13\n",
      "Patlu\n"
     ]
    }
   ],
   "source": [
    "def bricks(n):\n",
    "    count=0\n",
    "    if n==1:\n",
    "        print(\"Patlu\")\n",
    "    for i in range(1,n//2):\n",
    "        if count<n:\n",
    "            i+=1\n",
    "            count=i\n",
    "        elif count<n:\n",
    "            i*=2\n",
    "            count=i\n",
    "    if count!=n and count>n:\n",
    "        print(\"Motu\")\n",
    "    else:\n",
    "        print(\"Patlu\")\n",
    "            \n",
    "n=int(input())\n",
    "bricks(n)"
   ]
  },
  {
   "cell_type": "code",
   "execution_count": 10,
   "metadata": {},
   "outputs": [
    {
     "name": "stdout",
     "output_type": "stream",
     "text": [
      "13\n",
      "Patlu\n"
     ]
    }
   ],
   "source": [
    "def bricks(n):\n",
    "    count=n\n",
    "    c=0\n",
    "    for i in range(1,n):\n",
    "        if count<n:\n",
    "            p=i\n",
    "            count+=p\n",
    "            if count<=n:\n",
    "                flag=0\n",
    "        if count<n:\n",
    "            m=i*2\n",
    "            count=m+p\n",
    "            if count<=n:\n",
    "                flag=1\n",
    "    if flag==0:\n",
    "        print(\"Patlu\")\n",
    "    else:\n",
    "        print(\"Motu\")\n",
    "            \n",
    "n=int(input())\n",
    "bricks(n)"
   ]
  },
  {
   "cell_type": "code",
   "execution_count": null,
   "metadata": {},
   "outputs": [],
   "source": [
    "def anagrams(t,s1,s2):\n",
    "    l1=[]\n",
    "    l2=[]\n",
    "    c=0\n",
    "    for i in s1:\n",
    "        l1.append(i)\n",
    "    l1.sort()\n",
    "    for j in s2:\n",
    "        l2.append(j)\n",
    "    l2.sort()\n",
    "    if len(s1)==len(s2):\n",
    "        for d in l1:\n",
    "            if d in l2:\n",
    "                c=c+1\n",
    "        print(2*(len(s1)-c))\n",
    "    else:\n",
    "        for q in l1:\n",
    "            if q in l2:\n",
    "                c=c+1\n",
    "                len1=len(s1)\n",
    "                len2=len(s2)\n",
    "                tlen=len1+len2\n",
    "        print(tlen-2*c)\n",
    "t=int(input())\n",
    "for i in range(1,t+1):\n",
    "    s1=input()\n",
    "    s2=input()\n",
    "    anagrams(t,s1,s2)\n"
   ]
  },
  {
   "cell_type": "code",
   "execution_count": null,
   "metadata": {},
   "outputs": [],
   "source": [
    "def anagrams(t,s1,s2):\n",
    "    l1=[]\n",
    "    l2=[]\n",
    "    c=0\n",
    "    for i in s1:\n",
    "        l1.append(i)\n",
    "    l1.sort()\n",
    "    for j in s2:\n",
    "        l2.append(j)\n",
    "    l2.sort()\n",
    "    if len(s1)==len(s2):\n",
    "        for d in l1:\n",
    "            if d in l2:\n",
    "                c=c+1\n",
    "        print(2*(len(s1)-c))\n",
    "    else:\n",
    "        for q in l1:\n",
    "            if q in l2:\n",
    "                c=c+1\n",
    "                f=0\n",
    "            elif q not in l2:\n",
    "                l=len(s1)+len(s2)\n",
    "                f=1\n",
    "            else:\n",
    "                count=c+1\n",
    "                f=2\n",
    "        if f==0:\n",
    "            print(l-(2*c))\n",
    "        elif f==1:\n",
    "             print(l)  \n",
    "        else:\n",
    "            print(l-count)\n",
    "t=int(input())\n",
    "for i in range(1,t+1):\n",
    "    s1=input()\n",
    "    s2=input()\n",
    "    anagrams(t,s1,s2)\n"
   ]
  },
  {
   "cell_type": "code",
   "execution_count": null,
   "metadata": {},
   "outputs": [],
   "source": []
  },
  {
   "cell_type": "code",
   "execution_count": 3,
   "metadata": {},
   "outputs": [
    {
     "name": "stdout",
     "output_type": "stream",
     "text": [
      "180\n",
      "3\n",
      "640 480\n",
      "CROP IT\n",
      "120 300\n",
      "UPLOAD ANOTHER\n",
      "180 180\n",
      "ACCEPTED\n"
     ]
    }
   ],
   "source": [
    "def profilepic(l,n):\n",
    "    if w>=l and h>=l and h==w:\n",
    "        print(\"ACCEPTED\")\n",
    "    elif w>=l and h>=l and w!=h :\n",
    "        print(\"CROP IT\")\n",
    "    else:\n",
    "        print(\"UPLOAD ANOTHER\")\n",
    "        \n",
    "l=int(input())\n",
    "n=int(input())\n",
    "for i in range(1,n+1):\n",
    "    wh=input().split()\n",
    "    w=int(wh[0])\n",
    "    h=int(wh[1])\n",
    "    profilepic(l,n)\n",
    "    "
   ]
  },
  {
   "cell_type": "code",
   "execution_count": null,
   "metadata": {},
   "outputs": [],
   "source": []
  },
  {
   "cell_type": "markdown",
   "metadata": {},
   "source": [
    "Indian army is going to do a surprise attack on one of its enemies country. The President of India, the Supreme Commander of the Indian Army will be sending an alert message to all its commanding centers. As enemy would be monitoring the message, Indian army is going to encrypt(cipher) the message using basic encryption technique. A decoding key 'K' (number) would be sent secretly.\n",
    "\n",
    "You are assigned to develop a cipher program to encrypt the message. Your cipher must rotate every character in the message by a fixed number making it unreadable by enemies.\n",
    "\n",
    "Given a single line of string 'S' containing alpha, numeric and symbols, followed by a number '0<=N<=1000'. Encrypt and print the resulting string.\n",
    "\n",
    "Note: The cipher only encrypts Alpha and Numeric. (A-Z, a-z, and 0-9) . All Symbols, such as - , ; %, remain unencrypted.\n",
    "\n",
    "SAMPLE INPUT \n",
    "All-convoYs-9-be:Alert1.\n",
    "4\n",
    "SAMPLE OUTPUT \n",
    "Epp-gsrzsCw-3-fi:Epivx5."
   ]
  },
  {
   "cell_type": "code",
   "execution_count": null,
   "metadata": {},
   "outputs": [],
   "source": [
    "s=All-convoYs-9-be:Alert1\n",
    "def Cipher(s):\n",
    "    m=\"\"\n",
    "    for i in s:\n",
    "        m=m+(ord(i)+4)\n",
    "        \n",
    "    "
   ]
  }
 ],
 "metadata": {
  "kernelspec": {
   "display_name": "Python 3",
   "language": "python",
   "name": "python3"
  },
  "language_info": {
   "codemirror_mode": {
    "name": "ipython",
    "version": 3
   },
   "file_extension": ".py",
   "mimetype": "text/x-python",
   "name": "python",
   "nbconvert_exporter": "python",
   "pygments_lexer": "ipython3",
   "version": "3.7.3"
  }
 },
 "nbformat": 4,
 "nbformat_minor": 2
}
