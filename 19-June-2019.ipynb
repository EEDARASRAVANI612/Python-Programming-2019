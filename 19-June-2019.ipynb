{
 "cells": [
  {
   "cell_type": "markdown",
   "metadata": {},
   "source": [
    "### e-maze-in"
   ]
  },
  {
   "cell_type": "code",
   "execution_count": 1,
   "metadata": {},
   "outputs": [
    {
     "name": "stdout",
     "output_type": "stream",
     "text": [
      "0 -2\n"
     ]
    }
   ],
   "source": [
    "def emaze(s):\n",
    "    x=0\n",
    "    y=0\n",
    "    for i in s:\n",
    "        if(i=='L'):\n",
    "            x-=1\n",
    "        elif i=='R':\n",
    "            x+=1\n",
    "        elif i=='D':\n",
    "            y-=1\n",
    "        else:\n",
    "            y+=1\n",
    "    print(x,y)\n",
    "\n",
    "emaze(\"LLRDDR\")\n"
   ]
  },
  {
   "cell_type": "markdown",
   "metadata": {},
   "source": [
    "### Anagrams"
   ]
  },
  {
   "cell_type": "code",
   "execution_count": null,
   "metadata": {},
   "outputs": [],
   "source": [
    "def anagrams(t,s1,s2):\n",
    "    l1=[]\n",
    "    l2=[]\n",
    "    c=0\n",
    "    for i in s1:\n",
    "        l1.append(i)\n",
    "    l1.sort()\n",
    "    for j in s2:\n",
    "        l2.append(j)\n",
    "    l2.sort()\n",
    "    for d in l1:\n",
    "            if d in l2:\n",
    "                f=0\n",
    "            else:\n",
    "                c=c+1\n",
    "    print(c)\n",
    "t=int(input())\n",
    "for i in range(1,t+1):\n",
    "    s1=input()\n",
    "    s2=input()\n",
    "    anagrams(t,s1,s2)\n"
   ]
  },
  {
   "cell_type": "markdown",
   "metadata": {},
   "source": [
    "### Seating Arrangement"
   ]
  },
  {
   "cell_type": "code",
   "execution_count": null,
   "metadata": {},
   "outputs": [],
   "source": [
    "#Seating arrangements\n",
    "\n",
    "def SeatingArrangement(t,n):\n",
    "    \n",
    "    \n",
    "t=int(input())\n",
    "for i in range(1,t+1):\n",
    "    n=int(input())\n",
    "    SeatingArrangement(t,n)"
   ]
  },
  {
   "cell_type": "markdown",
   "metadata": {},
   "source": [
    "### Bricks game"
   ]
  },
  {
   "cell_type": "code",
   "execution_count": 8,
   "metadata": {},
   "outputs": [
    {
     "name": "stdout",
     "output_type": "stream",
     "text": [
      "13\n",
      "Patlu\n"
     ]
    }
   ],
   "source": [
    "def bricks(n):\n",
    "    count=0\n",
    "    if n==1:\n",
    "        print(\"Patlu\")\n",
    "    for i in range(1,n//2):\n",
    "        if count<n:\n",
    "            i+=1\n",
    "            count=i\n",
    "        elif count<n:\n",
    "            i*=2\n",
    "            count=i\n",
    "    if count!=n and count>n:\n",
    "        print(\"Motu\")\n",
    "    else:\n",
    "        print(\"Patlu\")\n",
    "            \n",
    "n=int(input())\n",
    "bricks(n)"
   ]
  },
  {
   "cell_type": "code",
   "execution_count": 10,
   "metadata": {},
   "outputs": [
    {
     "name": "stdout",
     "output_type": "stream",
     "text": [
      "13\n",
      "Patlu\n"
     ]
    }
   ],
   "source": [
    "def bricks(n):\n",
    "    count=n\n",
    "    c=0\n",
    "    for i in range(1,n):\n",
    "        if count<n:\n",
    "            p=i\n",
    "            count+=p\n",
    "            if count<=n:\n",
    "                flag=0\n",
    "        if count<n:\n",
    "            m=i*2\n",
    "            count=m+p\n",
    "            if count<=n:\n",
    "                flag=1\n",
    "    if flag==0:\n",
    "        print(\"Patlu\")\n",
    "    else:\n",
    "        print(\"Motu\")\n",
    "            \n",
    "n=int(input())\n",
    "bricks(n)"
   ]
  },
  {
   "cell_type": "code",
   "execution_count": null,
   "metadata": {},
   "outputs": [],
   "source": []
  },
  {
   "cell_type": "code",
   "execution_count": null,
   "metadata": {},
   "outputs": [],
   "source": []
  }
 ],
 "metadata": {
  "kernelspec": {
   "display_name": "Python 3",
   "language": "python",
   "name": "python3"
  },
  "language_info": {
   "codemirror_mode": {
    "name": "ipython",
    "version": 3
   },
   "file_extension": ".py",
   "mimetype": "text/x-python",
   "name": "python",
   "nbconvert_exporter": "python",
   "pygments_lexer": "ipython3",
   "version": "3.7.3"
  }
 },
 "nbformat": 4,
 "nbformat_minor": 2
}
