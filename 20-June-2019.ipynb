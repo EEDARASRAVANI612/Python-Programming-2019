{
 "cells": [
  {
   "cell_type": "markdown",
   "metadata": {},
   "source": [
    "\n",
    "### Date:20 June 2019\n",
    "\n",
    "### Day Objectives:\n",
    "\n",
    "- Regular Expressions\n",
    "    - Constructing Regular Expression for various use cases\n",
    "    - Regular Expressions Module and related in Python\n",
    "    - Improving the Contacts application with name and phone number validation\n",
    "- File Handling\n",
    "    - Text files\n",
    "    - Upgrading the Contacts Application to store contact information in a text file"
   ]
  },
  {
   "cell_type": "markdown",
   "metadata": {},
   "source": [
    "### Regular Expressions\n",
    "\n",
    "- Pattern Matching\n",
    "- Symbolic Notation of a pattern\n",
    "    - Pattern : Format which repeats\n",
    "    - Pattern(RE) represents The set of all values strings matches that pattern\n",
    "    \n",
    "    \n",
    " - [0-9] -> Any digit\n",
    " \n",
    " - [a-z] -> Any lower case alphabet\n",
    " \n",
    " - [2468] -> All single digit multiples of 2\n",
    " \n",
    " - ^[0-9]{1}$ -> Only single digit numbers(^ means checking from start)\n",
    " \n",
    " - ^[0-9]{2}$ -> Only two digit numbers\n",
    " \n",
    " - ^[1-9][0-9]*0$ -> All multiples of 10\n",
    " \n",
    " - ^[1-9][0-9]*[05]$ -> All multiples of 5 but except 5\n",
    " \n",
    " - ^([1-9][0-9]*[05])$|^([5])$ -> All multiples of 5 \n",
    " \n",
    " - ^[1-9][0-9]{9}$ -> All 10 digits\n",
    " \n",
    " - [w][0][r][d] or (word) -> Searching for a 'word'\n",
    " \n",
    " - ^[6-9][0-9]{9}$|^[0][6-9][0-9]{9}$|^[+][9][1][6-9][0-9]{9}$ -> All indian mobile numbers\n",
    " \n",
    " - Email Validation ( username@domain.ext\n",
    " ^[0-9a-z][0-9a-z_.]{4,13}[0-9a-z][@][0-9a-z]{3,18}[.][a-z]{2,4}$\n",
    " \n",
    "     - user name(^[0-9a-z][0-9a-z_.]{4,13}[0-9a-z]$)\n",
    "         - Length of username : [6,15]\n",
    "         - No special characters other than _ .\n",
    "         - Should not begin and end with _ .\n",
    "         - Character Set: all digits and lowercase alphabet\n",
    "     - domain\n",
    "         - Length of domain : [3,18]\n",
    "         - No special characters\n",
    "         - Character Set: all digits and lowercase alphabet\n",
    "     - extension\n",
    "         - Length of extension : [2,4]\n",
    "         - No special characters\n",
    "         - Character Set: lowercase alphabet\n",
    "         \n",
    "- ^[a]...[z]$ -> Any string of length 5 that starts with 'a' and ends with 'z'\n",
    "\n",
    "- ^[a].*[z]$ -> Any string that starts with 'a' and ends with 'z'         "
   ]
  },
  {
   "cell_type": "code",
   "execution_count": 3,
   "metadata": {},
   "outputs": [
    {
     "name": "stdout",
     "output_type": "stream",
     "text": [
      "8478347384\n",
      "Valid Number\n"
     ]
    }
   ],
   "source": [
    "#Function to validate a phone number\n",
    "import re\n",
    "\n",
    "def phoneNumberValidator(number):\n",
    "    pattern='^[6-9][0-9]{9}$|^[0][6-9][0-9]{9}$|^[+][9][1][6-9][0-9]{9}$'\n",
    "    if re.match(pattern,str(number)):\n",
    "        print(\"Valid Number\")\n",
    "    else:\n",
    "        print(\"Invalid Number\")\n",
    "    return\n",
    "number=int(input())  \n",
    "phoneNumberValidator(number)"
   ]
  },
  {
   "cell_type": "code",
   "execution_count": null,
   "metadata": {},
   "outputs": [],
   "source": []
  },
  {
   "cell_type": "code",
   "execution_count": 4,
   "metadata": {},
   "outputs": [
    {
     "name": "stdout",
     "output_type": "stream",
     "text": [
      "6776543679\n"
     ]
    },
    {
     "data": {
      "text/plain": [
       "True"
      ]
     },
     "execution_count": 4,
     "metadata": {},
     "output_type": "execute_result"
    }
   ],
   "source": [
    "import re\n",
    "\n",
    "def phoneNumberValidator(number):\n",
    "    pattern='^[6-9][0-9]{9}$|^[0][6-9][0-9]{9}$|^[+][9][1][6-9][0-9]{9}$'\n",
    "    if re.match(pattern,str(number)):\n",
    "        return True\n",
    "    return False\n",
    "number=int(input())  \n",
    "phoneNumberValidator(number)"
   ]
  },
  {
   "cell_type": "code",
   "execution_count": null,
   "metadata": {},
   "outputs": [],
   "source": []
  },
  {
   "cell_type": "code",
   "execution_count": 5,
   "metadata": {},
   "outputs": [
    {
     "data": {
      "text/plain": [
       "True"
      ]
     },
     "execution_count": 5,
     "metadata": {},
     "output_type": "execute_result"
    }
   ],
   "source": [
    "import re\n",
    "def emailValidator(email):\n",
    "    pattern='^[0-9a-z][0-9a-z_.]{4,13}[0-9a-z][@][0-9a-z]{3,18}[.][a-z]{2,4}$'\n",
    "    if re.match(pattern,email):\n",
    "        return True\n",
    "    return False\n",
    "emailValidator(\"sravanieedara01@gmail.com\")\n"
   ]
  },
  {
   "cell_type": "code",
   "execution_count": null,
   "metadata": {},
   "outputs": [],
   "source": []
  },
  {
   "cell_type": "code",
   "execution_count": 6,
   "metadata": {},
   "outputs": [
    {
     "name": "stdout",
     "output_type": "stream",
     "text": [
      "Contact sravani added\n"
     ]
    }
   ],
   "source": [
    "contacts={}\n",
    "def addContact(name,phone):\n",
    "    #verify that the conatact doesnot already exist\n",
    "    if name not in contacts and phoneNumberValidator(phone):\n",
    "        contacts[name]=phone\n",
    "        print(\"Contact %s added\" % name)\n",
    "        return \n",
    "    if name in contacts:\n",
    "        print(\"Contact %s already exists\"% name)\n",
    "        return\n",
    "    elif not phoneNumberValidator(phone):\n",
    "        print(\"Phone number is invalid\")\n",
    "        return \n",
    "        \n",
    "addContact(\"sravani\",\"8328098262\")      "
   ]
  },
  {
   "cell_type": "code",
   "execution_count": null,
   "metadata": {},
   "outputs": [],
   "source": []
  },
  {
   "cell_type": "code",
   "execution_count": 7,
   "metadata": {},
   "outputs": [
    {
     "name": "stdout",
     "output_type": "stream",
     "text": [
      "contacts sravani added\n"
     ]
    }
   ],
   "source": [
    "contacts={\"sis\":[9773467461,'name23@gmail.com'],\"sis2\":[9876522452,'name32@gmail.com']}\n",
    "def addContact(name,phone,email):\n",
    "    #verify that the conatact doesnot already exist\n",
    "    if name in contacts:\n",
    "        print(name,\"alreay exists.\")\n",
    "    else:\n",
    "        if not phoneNumberValidator(phone):\n",
    "            print(\"Invalid Phone number\")\n",
    "            return\n",
    "        if not emailValidator(email):\n",
    "            print(\"Invalid Email address\")\n",
    "            return\n",
    "        newcontact=[]\n",
    "        newcontact.append(phone)\n",
    "        newcontact.append(email)\n",
    "        contacts[name]=newcontact\n",
    "        print(\"contacts %s added\"%name)\n",
    "    return\n",
    "    \n",
    "addContact(\"sravani\",9875912451,'name34@gmail.com')"
   ]
  },
  {
   "cell_type": "code",
   "execution_count": 13,
   "metadata": {},
   "outputs": [
    {
     "data": {
      "text/plain": [
       "{'sis': [9773467461, 'name23@gmail.com'],\n",
       " 'sis2': [9876522452, 'name32@gmail.com'],\n",
       " 'sravani': [9875912451, 'name34@gmail.com']}"
      ]
     },
     "execution_count": 13,
     "metadata": {},
     "output_type": "execute_result"
    }
   ],
   "source": [
    "contacts"
   ]
  },
  {
   "cell_type": "code",
   "execution_count": 15,
   "metadata": {},
   "outputs": [
    {
     "name": "stdout",
     "output_type": "stream",
     "text": [
      "sravani\n",
      "Phone: 9875912451\n",
      "Email: name34@gmail.com\n"
     ]
    }
   ],
   "source": [
    "def searchContacts(name):\n",
    "    if name in contacts:\n",
    "        print(name)\n",
    "        print(\"Phone:\",contacts[name][0])\n",
    "        print(\"Email:\",contacts[name][1])\n",
    "    else:\n",
    "        print(\"%s does not exist\"%name)\n",
    "        \n",
    "searchContacts(\"sravani\")"
   ]
  },
  {
   "cell_type": "code",
   "execution_count": 70,
   "metadata": {},
   "outputs": [
    {
     "name": "stdout",
     "output_type": "stream",
     "text": [
      "1 contacts added \n"
     ]
    },
    {
     "data": {
      "text/plain": [
       "{'sis': [9773467461, 'name23@gmail.com'],\n",
       " 'sis2': [9876522452, 'name32@gmail.com'],\n",
       " 'sravani': [9875912451, 'name34@gmail.com'],\n",
       " 'name4': [9876545345, 'name345@gmail.com']}"
      ]
     },
     "execution_count": 70,
     "metadata": {},
     "output_type": "execute_result"
    }
   ],
   "source": [
    "def importContacts(newContacts):\n",
    "    contacts.update(newContacts)\n",
    "    print(len(newContacts.keys()),\"contacts added \")\n",
    "    return\n",
    "\n",
    "newContacts={\"name4\":[9876545345,'name345@gmail.com']}\n",
    "importContacts(newContacts)\n",
    "contacts"
   ]
  },
  {
   "cell_type": "code",
   "execution_count": 71,
   "metadata": {},
   "outputs": [
    {
     "name": "stdout",
     "output_type": "stream",
     "text": [
      "sis \n",
      " Phone:  9773467461 \n",
      " Email:  name23@gmail.com\n",
      "sis2 \n",
      " Phone:  9876522452 \n",
      " Email:  name32@gmail.com\n",
      "sravani \n",
      " Phone:  9875912451 \n",
      " Email:  name34@gmail.com\n",
      "name4 \n",
      " Phone:  9876545345 \n",
      " Email:  name345@gmail.com\n"
     ]
    }
   ],
   "source": [
    "#Function to list all contacts\n",
    "\n",
    "def listallContacts():\n",
    "    for contact,info in contacts.items():\n",
    "        print(contact,\"\\n\",\"Phone: \",info[0],\"\\n\",\"Email: \",info[1])\n",
    "    return\n",
    "        \n",
    "listallContacts()        \n",
    "    "
   ]
  },
  {
   "cell_type": "code",
   "execution_count": null,
   "metadata": {},
   "outputs": [],
   "source": [
    "# Function to edit contact information\n",
    "\n",
    "def editContact(name,phone,email):\n",
    "    if name in contacts:\n",
    "        \n",
    "    else:\n",
    "        if not phoneNumberValidator(phone):\n",
    "            print(\"Invalid Phone number\")\n",
    "            return\n",
    "        if not emailValidator(email):\n",
    "            print(\"Invalid Email address\")\n",
    "            return\n",
    "    "
   ]
  },
  {
   "cell_type": "code",
   "execution_count": null,
   "metadata": {},
   "outputs": [],
   "source": []
  },
  {
   "cell_type": "markdown",
   "metadata": {},
   "source": [
    "### File Handling in Python\n",
    "\n",
    "File - Document information residing on the permanent storage\n",
    "Types - Text,PDF,CSV etc\n",
    "\n",
    "File I/O - Channelling I/O data to files\n",
    "Default I/O Channels - Keyboard / Screen\n",
    "\n",
    "Change I/O channel to files for Reading and writing \n",
    "\n",
    "Read a file - Input from file \n",
    "Write to a file - Output to a file\n",
    "\n",
    "Read / Write a file - open(filename,mode)"
   ]
  },
  {
   "cell_type": "code",
   "execution_count": null,
   "metadata": {},
   "outputs": [],
   "source": []
  },
  {
   "cell_type": "code",
   "execution_count": 17,
   "metadata": {},
   "outputs": [
    {
     "name": "stdout",
     "output_type": "stream",
     "text": [
      "LINE 1\n",
      "LINE 2\n",
      "LINE 3\n",
      "LINE 1\n",
      "\n",
      "LINE 2\n",
      "\n",
      "LINE 3\n",
      "LINE 1\n",
      "LINE 2\n",
      "LINE 3\n"
     ]
    }
   ],
   "source": [
    "# Function to read a file\n",
    "def readFile(filename):\n",
    "    f=open(filename,'r')\n",
    "    filedata=f.read()\n",
    "    f.close()\n",
    "    return filedata\n",
    "filename=\"Datafiles/data.txt\"\n",
    "for line in readFile(filename).split('\\n'):\n",
    "    print(line)\n",
    "def printFileDataLines(filename):\n",
    "    with open(filename,'r') as f:\n",
    "        for line in f:\n",
    "            print(line)\n",
    "    return\n",
    "printFileDataLines(filename)\n",
    "print(readFile(filename))"
   ]
  },
  {
   "cell_type": "code",
   "execution_count": 18,
   "metadata": {},
   "outputs": [],
   "source": [
    "#Function to write data into a file\n",
    "def writeIntoFile(filename,filedata):\n",
    "    with open(filename,'w') as f:\n",
    "        f.write(filedata)\n",
    "    return\n",
    "filename=\"Datafiles/data.txt\"\n",
    "\n",
    "writeIntoFile(filename,\"newdata\\n\")"
   ]
  },
  {
   "cell_type": "code",
   "execution_count": 19,
   "metadata": {},
   "outputs": [],
   "source": [
    "#Function to append data into file\n",
    "def appendIntoFile(filename,filedata):\n",
    "    with open(filename,'a') as f:\n",
    "        f.write(filedata)\n",
    "    return\n",
    "filename=\"Datafiles/data.txt\"\n",
    "\n",
    "appendIntoFile(filename,\"newdata1\")"
   ]
  },
  {
   "cell_type": "code",
   "execution_count": 21,
   "metadata": {},
   "outputs": [],
   "source": [
    "#Function to append data into file\n",
    "def appendIntoFile(filename,filedata):\n",
    "    with open(filename,'a') as f:\n",
    "        for line in filedata:\n",
    "            f.write('\\n'+line)\n",
    "    return\n",
    "filedata=[\"line4\", \"line5\"]\n",
    "appendIntoFile(filename,filedata)"
   ]
  },
  {
   "cell_type": "code",
   "execution_count": null,
   "metadata": {},
   "outputs": [],
   "source": []
  },
  {
   "cell_type": "code",
   "execution_count": null,
   "metadata": {},
   "outputs": [],
   "source": []
  }
 ],
 "metadata": {
  "kernelspec": {
   "display_name": "Python 3",
   "language": "python",
   "name": "python3"
  },
  "language_info": {
   "codemirror_mode": {
    "name": "ipython",
    "version": 3
   },
   "file_extension": ".py",
   "mimetype": "text/x-python",
   "name": "python",
   "nbconvert_exporter": "python",
   "pygments_lexer": "ipython3",
   "version": "3.7.3"
  }
 },
 "nbformat": 4,
 "nbformat_minor": 2
}
