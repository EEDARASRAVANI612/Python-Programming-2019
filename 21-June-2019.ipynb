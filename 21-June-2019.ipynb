{
 "cells": [
  {
   "cell_type": "code",
   "execution_count": null,
   "metadata": {},
   "outputs": [],
   "source": []
  },
  {
   "cell_type": "code",
   "execution_count": 4,
   "metadata": {},
   "outputs": [
    {
     "name": "stdout",
     "output_type": "stream",
     "text": [
      "name1 added to contacts\n"
     ]
    }
   ],
   "source": [
    "#Function to add conatact to contacts text file\n",
    "from Packages import validators\n",
    "\n",
    "def addContact(name,phone,email):\n",
    "    #store data as name,phone,email in the contacts file\n",
    "    filename='Datafiles/contacts.txt'\n",
    "    with open(filename, 'a') as f:\n",
    "        line= name +','+ str(phone) +','+ email + '\\n'\n",
    "        f.write(line)\n",
    "    print(name,'added to contacts')\n",
    "    return\n",
    "addContact(\"name1\",9876485721,\"name1_23@gmail.com\")       "
   ]
  },
  {
   "cell_type": "code",
   "execution_count": 135,
   "metadata": {},
   "outputs": [
    {
     "name": "stdout",
     "output_type": "stream",
     "text": [
      "name1 added to contacts\n"
     ]
    }
   ],
   "source": [
    "from Packages.validators import phoneNumberValidator as pnv, emailValidator as ev\n",
    "\n",
    "def addContact(name,phone,email):\n",
    "    #store data as name,phone,email in the contacts file\n",
    "    filename='Datafiles/contacts.txt'\n",
    "    if not checkContactExists(name):\n",
    "        if pnv(phone) and ev(email):\n",
    "            with open(filename, 'a') as f:\n",
    "                line= name +':'+ str(phone) +','+ email + '\\n'\n",
    "                f.write(line)\n",
    "            print(name,'added to contacts')\n",
    "        else:\n",
    "            print('Invalid Phone number or Email')\n",
    "    else:\n",
    "        print(name,'already exists')\n",
    "    return\n",
    "\n",
    "import re\n",
    "#Function to check if contact already exists\n",
    "def checkContactExists(name):\n",
    "    filename='Datafiles/contacts.txt'\n",
    "    with open (filename,'r')as f:\n",
    "        filedata=f.read()\n",
    "        pattern=name+','\n",
    "    return re.search(pattern,filedata)\n",
    "\n",
    "\n",
    "addContact(\"name1\",9886434445,\"neo_8923@gmail.com\")       "
   ]
  },
  {
   "cell_type": "code",
   "execution_count": 157,
   "metadata": {},
   "outputs": [
    {
     "name": "stdout",
     "output_type": "stream",
     "text": [
      "['name2', '6573898921', 'name231@gmail.com\\n']\n",
      "['name3', '9873646547', 'name321@gmail.com\\n']\n",
      "['name1', '9886434445', 'neo_8923@gmail.com']\n"
     ]
    },
    {
     "data": {
      "text/plain": [
       "'name2,6573898921,name231@gmail.com\\nname3,9873646547,name321@gmail.com\\nname1,9886434445,neo_8923@gmail.com'"
      ]
     },
     "execution_count": 157,
     "metadata": {},
     "output_type": "execute_result"
    }
   ],
   "source": [
    "filename='Datafiles/contacts.txt'\n",
    "def csvToList(filename):\n",
    "    li=[]\n",
    "    with open(filename,'r') as f:\n",
    "        for line in f:\n",
    "            li.append(line.split(','))\n",
    "    return li\n",
    "def listToFile(li):\n",
    "    s=''\n",
    "    for i in li:\n",
    "        print(i)\n",
    "        s+=','.join(i)\n",
    "    return s\n",
    "li=csvToList(filename)\n",
    "li\n",
    "listToFile(li)"
   ]
  },
  {
   "cell_type": "code",
   "execution_count": 62,
   "metadata": {},
   "outputs": [
    {
     "name": "stdout",
     "output_type": "stream",
     "text": [
      "2\n"
     ]
    },
    {
     "data": {
      "text/plain": [
       "'name1'"
      ]
     },
     "execution_count": 62,
     "metadata": {},
     "output_type": "execute_result"
    }
   ],
   "source": [
    "x=[['name1', '9876485721', 'name1_23@gmail.com\\n'],\n",
    " ['sravani', '9886434454', 'naeeo23@gmail.com\\n']]\n",
    "print(len(x))\n",
    "x[0][0]"
   ]
  },
  {
   "cell_type": "code",
   "execution_count": 158,
   "metadata": {},
   "outputs": [
    {
     "name": "stdout",
     "output_type": "stream",
     "text": [
      "name1 is exists in contacts\n",
      "name1\n",
      "phone number : 9886434445\n",
      "Email ID : neo_8923@gmail.com\n"
     ]
    }
   ],
   "source": [
    "def searchContacts(name):\n",
    "    filename='Datafiles/contacts.txt'\n",
    "    li=[]\n",
    "    with open(filename,'r') as f:\n",
    "        for line in f:\n",
    "            li.append(line.split(','))\n",
    "    for i in range(0,len(li)):\n",
    "        if li[i][0]==name:\n",
    "            f=0\n",
    "            n=li[i][0]\n",
    "            p=li[i][1]\n",
    "            e=li[i][2]\n",
    "    if f==0:\n",
    "        print(\"%s is exists in contacts\"%name)\n",
    "        print(n)\n",
    "        print(\"phone number :\",p)\n",
    "        print(\"Email ID :\",e)\n",
    "    else:\n",
    "        print(\"%s not in contacts\"%name)\n",
    "searchContacts(\"name1\")"
   ]
  },
  {
   "cell_type": "markdown",
   "metadata": {},
   "source": [
    "## "
   ]
  },
  {
   "cell_type": "code",
   "execution_count": 164,
   "metadata": {},
   "outputs": [
    {
     "name": "stdout",
     "output_type": "stream",
     "text": [
      "[['name2', '6573898921', 'name231@gmail.com\\n'], ['name3', '9873646547', 'name321@gmail.com\\n']]\n"
     ]
    }
   ],
   "source": [
    "def deleteContacts(name):\n",
    "    filename='Datafiles/contacts.txt'\n",
    "    li=[]\n",
    "    with open(filename,'r') as f:\n",
    "        for line in f:\n",
    "            li.append(line.split(','))\n",
    "    for i in range(0,len(li)):\n",
    "        \n",
    "        if li[i][0]==name:\n",
    "            li.pop(i)\n",
    "            break\n",
    "            \n",
    "    print(li)\n",
    "    with open(filename,'w') as f:\n",
    "        for line in li:\n",
    "            rline=','.join(line)\n",
    "            f.writelines(rline)\n",
    "deleteContacts(\"name1\")"
   ]
  },
  {
   "cell_type": "code",
   "execution_count": null,
   "metadata": {},
   "outputs": [],
   "source": []
  },
  {
   "cell_type": "code",
   "execution_count": null,
   "metadata": {},
   "outputs": [],
   "source": [
    "from Packages.validators import phoneNumberValidator as pnv, emailValidator as ev\n",
    "\n",
    "def addContact(name,phone,email):\n",
    "    #store data as name,phone,email in the contacts file\n",
    "    filename='Datafiles/contacts.txt'\n",
    "    \n",
    "    \n",
    "    \n",
    "    \n",
    "    \n",
    "    if not checkContactExists(name):\n",
    "        if pnv(phone) and ev(email):\n",
    "            with open(filename, 'a') as f:\n",
    "                line= name +':'+ str(phone) +','+ email + '\\n'\n",
    "                f.write(line)\n",
    "            print(name,'added to contacts')\n",
    "        else:\n",
    "            print('Invalid Phone number or Email')\n",
    "    else:\n",
    "        print(name,'already exists')\n",
    "    return\n",
    "\n",
    "import re\n",
    "#Function to check if contact already exists\n",
    "def checkContactExists(name):\n",
    "    filename='Datafiles/contacts.txt'\n",
    "    with open (filename,'r')as f:\n",
    "        filedata=f.read()\n",
    "        pattern=name+','\n",
    "    return re.search(pattern,filedata)\n",
    "\n",
    "\n",
    "addContact(\"name1\",9886434445,\"neo_8923@gmail.com\")   "
   ]
  },
  {
   "cell_type": "code",
   "execution_count": null,
   "metadata": {},
   "outputs": [],
   "source": []
  }
 ],
 "metadata": {
  "kernelspec": {
   "display_name": "Python 3",
   "language": "python",
   "name": "python3"
  },
  "language_info": {
   "codemirror_mode": {
    "name": "ipython",
    "version": 3
   },
   "file_extension": ".py",
   "mimetype": "text/x-python",
   "name": "python",
   "nbconvert_exporter": "python",
   "pygments_lexer": "ipython3",
   "version": "3.7.3"
  }
 },
 "nbformat": 4,
 "nbformat_minor": 2
}
