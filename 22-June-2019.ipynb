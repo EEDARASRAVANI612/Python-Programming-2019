{
 "cells": [
  {
   "cell_type": "markdown",
   "metadata": {},
   "source": [
    "### Date : 22 June 2019\n",
    "\n",
    "###  Day Objectives\n",
    "- File Handling\n",
    "    - Basic File data Processing \n",
    "        - Accessing and Modifying File Data\n",
    "    - Character Count\n",
    "    - Line Count\n",
    "    - File Size\n",
    "    - Word Count\n",
    "    - Unique Word Count\n",
    "    "
   ]
  },
  {
   "cell_type": "markdown",
   "metadata": {},
   "source": [
    "#### Read a File - Files should exist(Read Mode)\n",
    "#### Write to a File - Files May exist or  May not /  Existing(append) or New file (Write mode)\n"
   ]
  },
  {
   "cell_type": "code",
   "execution_count": 10,
   "metadata": {
    "scrolled": true
   },
   "outputs": [
    {
     "name": "stdout",
     "output_type": "stream",
     "text": [
      "newdata\n",
      "line1\n",
      "line2\n",
      "line3\n",
      "line4\n",
      "line5\n"
     ]
    }
   ],
   "source": [
    "#Read File- File should be exist\n",
    "#Write to a File- Existing(Appending) or New \n",
    "\n",
    "def readFile(filepath):\n",
    "    with open(filepath,'r') as f:\n",
    "        filedata = f.read() #Reads the entire file data\n",
    "    return filedata  \n",
    "\n",
    "filePath = 'DataFiles/data.txt'\n",
    "print(readFile(filePath))  "
   ]
  },
  {
   "cell_type": "code",
   "execution_count": 15,
   "metadata": {},
   "outputs": [
    {
     "data": {
      "text/plain": [
       "['newdata', 'line1', 'line2', 'line3', 'line4', 'line5']"
      ]
     },
     "execution_count": 15,
     "metadata": {},
     "output_type": "execute_result"
    }
   ],
   "source": [
    "# Function to read a file into a list of lines\n",
    "# Each element in the list is one line in the file - Line Processing\n",
    "def readFileIntoList(filepath):\n",
    "    with open(filePath, 'r') as f:\n",
    "        filedata = f.read()\n",
    "        lines = filedata.split('\\n')\n",
    "        #lines = []\n",
    "        #for line in f: \n",
    "            #lines.append(line)\n",
    "    return lines\n",
    "\n",
    "filepath = 'DataFiles/data.txt'\n",
    "readFileIntoList(filepath)"
   ]
  },
  {
   "cell_type": "markdown",
   "metadata": {},
   "source": [
    "### Line count"
   ]
  },
  {
   "cell_type": "code",
   "execution_count": 16,
   "metadata": {},
   "outputs": [
    {
     "data": {
      "text/plain": [
       "6"
      ]
     },
     "execution_count": 16,
     "metadata": {},
     "output_type": "execute_result"
    }
   ],
   "source": [
    "# Function to count number of lines in a file\n",
    "\n",
    "def countLinesFile(filepath):\n",
    "    count = len(readFileIntoList(filepath))\n",
    "    return count\n",
    "filepath ='DataFiles/data.txt'\n",
    "countLinesFile(filepath)"
   ]
  },
  {
   "cell_type": "markdown",
   "metadata": {},
   "source": [
    "### Character Count"
   ]
  },
  {
   "cell_type": "code",
   "execution_count": 17,
   "metadata": {},
   "outputs": [
    {
     "data": {
      "text/plain": [
       "37"
      ]
     },
     "execution_count": 17,
     "metadata": {},
     "output_type": "execute_result"
    }
   ],
   "source": [
    "#Function to count the number of characters in a file\n",
    "\n",
    "def charCountFile(filepath):\n",
    "    count = len(readFile(filepath))\n",
    "    return count\n",
    "charCountFile(filepath)"
   ]
  },
  {
   "cell_type": "markdown",
   "metadata": {},
   "source": [
    "### Word Count"
   ]
  },
  {
   "cell_type": "code",
   "execution_count": 18,
   "metadata": {},
   "outputs": [
    {
     "data": {
      "text/plain": [
       "6"
      ]
     },
     "execution_count": 18,
     "metadata": {},
     "output_type": "execute_result"
    }
   ],
   "source": [
    "# Function to count the number of words in a file\n",
    "import re\n",
    "\n",
    "def wordCountFile(filepath):\n",
    "    pattern = '[ \\n]'\n",
    "    filedata = readFile(filepath)\n",
    "    count = len(re.split(pattern, filedata))\n",
    "    return count\n",
    "\n",
    "wordCountFile(filepath)"
   ]
  },
  {
   "cell_type": "markdown",
   "metadata": {},
   "source": [
    "### Unique Word Count"
   ]
  },
  {
   "cell_type": "code",
   "execution_count": 19,
   "metadata": {},
   "outputs": [
    {
     "data": {
      "text/plain": [
       "[1, 2, 3]"
      ]
     },
     "execution_count": 19,
     "metadata": {},
     "output_type": "execute_result"
    }
   ],
   "source": [
    "# Function to get unique elements in a list\n",
    "\n",
    "# [1,2,3,3,2,1] -> [1,2,3]\n",
    "# Create a empty unique list [1,2,3]\n",
    "\n",
    "def uniqueData(li):\n",
    "    # Create an empty unique list\n",
    "    unique = []    \n",
    "    # For every element in the main list, \n",
    "        # check if it exists in the unique list.\n",
    "        # If it does not exist, add it to unique list\n",
    "        # else if it already exists, move on to the next element in the main list   \n",
    "    for element in li:\n",
    "        if element not in unique:\n",
    "            unique.append(element)\n",
    "    return unique\n",
    "\n",
    "li = [1,2,3,3,2,1]\n",
    "\n",
    "uniqueData(li)        "
   ]
  },
  {
   "cell_type": "markdown",
   "metadata": {},
   "source": [
    "### Lines Counting , Words Counting , Characters Count"
   ]
  },
  {
   "cell_type": "code",
   "execution_count": 33,
   "metadata": {},
   "outputs": [
    {
     "name": "stdout",
     "output_type": "stream",
     "text": [
      "Character count =  17\n",
      "Lines count =  2\n",
      "words count =  3\n"
     ]
    }
   ],
   "source": [
    "def lineCount(filePath):\n",
    "    with open(filePath,'r') as f:\n",
    "        lc=0 #line count\n",
    "        wc=0 #word count\n",
    "        charc=0 #char count\n",
    "        fieldata=f.read\n",
    "        for lines in f:\n",
    "            #print(lines)\n",
    "            lc+=1\n",
    "            sp=lines.split() #split the line\n",
    "            wc+=len(sp)\n",
    "            if lc>1:\n",
    "                charc+=len(lines)-lc+1\n",
    "            else:\n",
    "                charc+=len(lines)\n",
    "        print(\"Character count = \",charc)\n",
    "        print(\"Lines count = \",lc)\n",
    "        print(\"words count = \", wc)\n",
    "filePath = 'package/data.txt'\n",
    "lineCount(filePath)"
   ]
  },
  {
   "cell_type": "markdown",
   "metadata": {},
   "source": [
    "### File Size"
   ]
  },
  {
   "cell_type": "code",
   "execution_count": 30,
   "metadata": {},
   "outputs": [
    {
     "data": {
      "text/plain": [
       "18"
      ]
     },
     "execution_count": 30,
     "metadata": {},
     "output_type": "execute_result"
    }
   ],
   "source": [
    "import os\n",
    "os.path.getsize('package/data.txt')"
   ]
  },
  {
   "cell_type": "code",
   "execution_count": 15,
   "metadata": {},
   "outputs": [
    {
     "name": "stdout",
     "output_type": "stream",
     "text": [
      "693.800272 MB\n"
     ]
    }
   ],
   "source": [
    "import os\n",
    "c=os.path.getsize('soft/Anaconda3-2019.03-Windows-x86_64.exe')\n",
    "if c<1000:\n",
    "    print(c,\"Bytes\")\n",
    "elif c>=1000 and c<1000000:\n",
    "    print(c/1000,\"KB\")\n",
    "elif c>=1000000 and c< 1000000000:\n",
    "    print(c/1000000,\"MB\")\n",
    "else:\n",
    "    print(c/1000000000,\"GB\")"
   ]
  },
  {
   "cell_type": "markdown",
   "metadata": {},
   "source": [
    "### Unique Word Count"
   ]
  },
  {
   "cell_type": "code",
   "execution_count": 8,
   "metadata": {},
   "outputs": [
    {
     "name": "stdout",
     "output_type": "stream",
     "text": [
      "sravani  :  2\n",
      "siri  :  2\n",
      "jhansi  :  2\n",
      "chandu  :  1\n",
      "malli  :  2\n",
      "sowji  :  2\n",
      "janu  :  1\n",
      "bharu  :  1\n",
      "dear  :  1\n"
     ]
    }
   ],
   "source": [
    "def uniqueWordCount():\n",
    "    li={}\n",
    "    with open('package/data.txt','r') as f:\n",
    "        for lines in f.readlines():\n",
    "            data1=lines.split()\n",
    "            for line in data1:\n",
    "                if line in li:\n",
    "                    li[line] += 1\n",
    "                else: \n",
    "                    li[line] = 1\n",
    "  \n",
    "    for key, value in li.items(): \n",
    "        print (key,\" : \",value) \n",
    "uniqueWordCount()    "
   ]
  },
  {
   "cell_type": "code",
   "execution_count": null,
   "metadata": {},
   "outputs": [],
   "source": []
  },
  {
   "cell_type": "code",
   "execution_count": null,
   "metadata": {},
   "outputs": [],
   "source": [
    "def uni(l):\n",
    "    a=[]\n",
    "    c=1\n",
    "    for i in s:\n",
    "        if i not in a:\n",
    "            a.append(i)\n",
    "    print(a)\n",
    "s={1,2,3,4,5,4,5,7}\n",
    "    \n",
    "    "
   ]
  },
  {
   "cell_type": "markdown",
   "metadata": {},
   "source": [
    "#### Ali and Helping innocent people\n",
    "\n",
    "- input: DDXDDD-DD \n",
    "- s[2]== not (A\",\"E\",\"I\",\"O\",\"U\",\"Y )\n",
    "- The tag is valid when the sum of first and second digit of it is even (also the sum of 4'th and 5'th, 5'th and 6'th and 8'th and 9'th are even)."
   ]
  },
  {
   "cell_type": "code",
   "execution_count": 16,
   "metadata": {},
   "outputs": [
    {
     "name": "stdout",
     "output_type": "stream",
     "text": [
      "11B424-11\n",
      "valid\n"
     ]
    }
   ],
   "source": [
    "s=input()\n",
    "def helping(s):\n",
    "    c=0\n",
    "    if(len(s)==9):\n",
    "        for i in range(0,len(s)):\n",
    "            if(s[2]!='A' and s[2]!='E' and s[2]!='I' and s[2]!='O' and s[2]!='U' and s[2]!='Y' and s[6]=='-') and ((int(s[0])+int(s[1]))%2==0 and (int(s[3])+int(s[4]))%2==0 and (int(s[4])+int(s[5]))%2==0 and (int(s[7])+int(s[8]))%2==0):\n",
    "                c=1\n",
    "        if(c==1):\n",
    "            print(\"valid\")\n",
    "                \n",
    "        else:\n",
    "            print(\"invalid\")\n",
    "helping(s)"
   ]
  },
  {
   "cell_type": "code",
   "execution_count": 7,
   "metadata": {},
   "outputs": [
    {
     "name": "stdout",
     "output_type": "stream",
     "text": [
      "1 2 3 2 1\n",
      "['1', '2', '3'] 4\n"
     ]
    }
   ],
   "source": [
    "def uniqueCount():\n",
    "    a=[]\n",
    "    c=1\n",
    "    for i in s:\n",
    "        if i not in a:\n",
    "            a.append(i)\n",
    "            c+=1\n",
    "    print(a,c)\n",
    "s=input().split()\n",
    "uniqueCount()"
   ]
  },
  {
   "cell_type": "code",
   "execution_count": null,
   "metadata": {},
   "outputs": [],
   "source": []
  },
  {
   "cell_type": "code",
   "execution_count": 16,
   "metadata": {},
   "outputs": [
    {
     "name": "stdout",
     "output_type": "stream",
     "text": [
      "1  :  2\n",
      "2  :  4\n",
      "8  :  1\n",
      "3  :  1\n",
      "5  :  1\n"
     ]
    }
   ],
   "source": [
    "a=[1,2,8,3,2,2,2,1,5]\n",
    "fr=[None]*len(a)\n",
    "v=-1\n",
    "for i in range(0,len(a)):\n",
    "    c=1\n",
    "    for j in range(i+1,len(a)):\n",
    "        if a[i]==a[j]:\n",
    "            c+=1\n",
    "            fr[j]=v\n",
    "    if fr[i]!=v:\n",
    "        fr[i]=c\n",
    "for i in range(0,len(fr)):\n",
    "    if(fr[i]!=v):\n",
    "        print(str(a[i]),\" : \",str(fr[i]))"
   ]
  },
  {
   "cell_type": "code",
   "execution_count": 3,
   "metadata": {
    "scrolled": true
   },
   "outputs": [
    {
     "name": "stdout",
     "output_type": "stream",
     "text": [
      "1 5\n",
      "5 2\n",
      "3 3\n",
      "4 3\n",
      "2 4\n"
     ]
    }
   ],
   "source": [
    "def CountFrequency(l): \n",
    "    freq = {} \n",
    "    for i in l: \n",
    "        if (i in freq): \n",
    "            freq[i] += 1\n",
    "        else: \n",
    "            freq[i] = 1\n",
    "  \n",
    "    for key, value in freq.items(): \n",
    "        print (key, value) \n",
    "l =[1, 1, 1, 5, 5, 3, 1, 3, 3, 1, 4, 4, 4, 2, 2, 2, 2]       \n",
    "CountFrequency(l)"
   ]
  },
  {
   "cell_type": "code",
   "execution_count": 77,
   "metadata": {},
   "outputs": [
    {
     "name": "stdout",
     "output_type": "stream",
     "text": [
      "kl0-909\n",
      "2\n"
     ]
    }
   ],
   "source": [
    "def DigitFrequency():\n",
    "    s=input()\n",
    "    a=[]\n",
    "    for i in s:\n",
    "        if i.isdigit():\n",
    "            a.append(i)\n",
    "            c=a.count(i)\n",
    "    print(c)\n",
    "DigitFrequency()                   "
   ]
  },
  {
   "cell_type": "code",
   "execution_count": null,
   "metadata": {},
   "outputs": [],
   "source": []
  },
  {
   "cell_type": "code",
   "execution_count": 83,
   "metadata": {},
   "outputs": [
    {
     "ename": "TypeError",
     "evalue": "uniqueData() takes 0 positional arguments but 1 was given",
     "output_type": "error",
     "traceback": [
      "\u001b[1;31m---------------------------------------------------------------------------\u001b[0m",
      "\u001b[1;31mTypeError\u001b[0m                                 Traceback (most recent call last)",
      "\u001b[1;32m<ipython-input-83-ba29fb9e018a>\u001b[0m in \u001b[0;36m<module>\u001b[1;34m\u001b[0m\n\u001b[0;32m     27\u001b[0m             \u001b[0mcount\u001b[0m\u001b[1;33m=\u001b[0m\u001b[0mallnumbers\u001b[0m\u001b[1;33m.\u001b[0m\u001b[0mcount\u001b[0m\u001b[1;33m(\u001b[0m\u001b[0mstr\u001b[0m\u001b[1;33m(\u001b[0m\u001b[0mi\u001b[0m\u001b[1;33m)\u001b[0m\u001b[1;33m)\u001b[0m\u001b[1;33m\u001b[0m\u001b[1;33m\u001b[0m\u001b[0m\n\u001b[0;32m     28\u001b[0m             \u001b[0mprint\u001b[0m\u001b[1;33m(\u001b[0m\u001b[0mcount\u001b[0m\u001b[1;33m,\u001b[0m\u001b[0mend\u001b[0m\u001b[1;33m=\u001b[0m\u001b[1;34m' '\u001b[0m\u001b[1;33m)\u001b[0m\u001b[1;33m\u001b[0m\u001b[1;33m\u001b[0m\u001b[0m\n\u001b[1;32m---> 29\u001b[1;33m \u001b[0mdigitFrequency\u001b[0m\u001b[1;33m(\u001b[0m\u001b[1;34m'1234567890'\u001b[0m\u001b[1;33m)\u001b[0m\u001b[1;33m\u001b[0m\u001b[1;33m\u001b[0m\u001b[0m\n\u001b[0m\u001b[0;32m     30\u001b[0m \u001b[1;33m\u001b[0m\u001b[0m\n\u001b[0;32m     31\u001b[0m \u001b[1;33m\u001b[0m\u001b[0m\n",
      "\u001b[1;32m<ipython-input-83-ba29fb9e018a>\u001b[0m in \u001b[0;36mdigitFrequency\u001b[1;34m(s)\u001b[0m\n\u001b[0;32m     20\u001b[0m         \u001b[1;32mif\u001b[0m \u001b[0mi\u001b[0m\u001b[1;33m.\u001b[0m\u001b[0misdigit\u001b[0m\u001b[1;33m(\u001b[0m\u001b[1;33m)\u001b[0m\u001b[1;33m:\u001b[0m\u001b[1;33m\u001b[0m\u001b[1;33m\u001b[0m\u001b[0m\n\u001b[0;32m     21\u001b[0m             \u001b[0mallnumbers\u001b[0m\u001b[1;33m.\u001b[0m\u001b[0mappend\u001b[0m\u001b[1;33m(\u001b[0m\u001b[0mi\u001b[0m\u001b[1;33m)\u001b[0m\u001b[1;33m\u001b[0m\u001b[1;33m\u001b[0m\u001b[0m\n\u001b[1;32m---> 22\u001b[1;33m     \u001b[0munique\u001b[0m\u001b[1;33m=\u001b[0m\u001b[0muniqueData\u001b[0m\u001b[1;33m(\u001b[0m\u001b[0mallnumbers\u001b[0m\u001b[1;33m)\u001b[0m\u001b[1;33m\u001b[0m\u001b[1;33m\u001b[0m\u001b[0m\n\u001b[0m\u001b[0;32m     23\u001b[0m     \u001b[1;32mfor\u001b[0m \u001b[0mi\u001b[0m \u001b[1;32min\u001b[0m \u001b[0mrange\u001b[0m\u001b[1;33m(\u001b[0m\u001b[1;36m0\u001b[0m\u001b[1;33m,\u001b[0m\u001b[1;36m10\u001b[0m\u001b[1;33m)\u001b[0m\u001b[1;33m:\u001b[0m\u001b[1;33m\u001b[0m\u001b[1;33m\u001b[0m\u001b[0m\n\u001b[0;32m     24\u001b[0m         \u001b[1;32mif\u001b[0m \u001b[0mstr\u001b[0m\u001b[1;33m(\u001b[0m\u001b[0mi\u001b[0m\u001b[1;33m)\u001b[0m \u001b[1;32mnot\u001b[0m \u001b[1;32min\u001b[0m \u001b[0munique\u001b[0m\u001b[1;33m:\u001b[0m\u001b[1;33m\u001b[0m\u001b[1;33m\u001b[0m\u001b[0m\n",
      "\u001b[1;31mTypeError\u001b[0m: uniqueData() takes 0 positional arguments but 1 was given"
     ]
    }
   ],
   "source": [
    "# s = 123abc456def\n",
    "# 0 1 1 1 1 1 1 0 0 0 -> Frequency of sorted numbers\n",
    "\n",
    "# s = c\n",
    "# 0 0 0 0 0 0 0 0 0 0 \n",
    "\n",
    "# s = 1234567890\n",
    "# 1 1 1 1 1 1 1 1 1 1\n",
    "\n",
    "def uniqueData():\n",
    "    unique=[]\n",
    "    for n in allnumbers:\n",
    "        if n not in unique:\n",
    "            unique.append(n)\n",
    "    return unique\n",
    "\n",
    "def digitFrequency(s):\n",
    "    allnumbers=[]\n",
    "    for i in s:\n",
    "        if i.isdigit():\n",
    "            allnumbers.append(i)\n",
    "    unique=uniqueData(allnumbers)\n",
    "    for i in range(0,10):\n",
    "        if str(i) not in unique:\n",
    "            print(0,end=\" \")\n",
    "        else:\n",
    "            count=allnumbers.count(str(i))\n",
    "            print(count,end=' ')\n",
    "digitFrequency('1234567890')       \n",
    "    \n",
    "\n"
   ]
  },
  {
   "cell_type": "code",
   "execution_count": null,
   "metadata": {},
   "outputs": [],
   "source": []
  },
  {
   "cell_type": "code",
   "execution_count": null,
   "metadata": {},
   "outputs": [],
   "source": [
    "#Contacts Application\n",
    "    # Add , Search , List, Modify, Delete Contacts\n",
    "    \n",
    "# Find and Replace Application\n",
    "    # Count the total number of occurance of a word\n",
    "    # If word is existing \n",
    "    # Replace all occurances of a word woth another word\n",
    "\n",
    "\n",
    "# Marks Analysis Application \n",
    "    # Generate marks file for n students - \n",
    "    # Input : Marks text file - each line containing marks of one student\n",
    "    # Generate a report with the following information\n",
    "        # Class Average\n",
    "        # % of students passed\n",
    "        # % of students failed \n",
    "        # % of students with distinction\n",
    "        # Highest Mark Frequency \n",
    "        # Lowest Mark Frequency"
   ]
  },
  {
   "cell_type": "code",
   "execution_count": 37,
   "metadata": {},
   "outputs": [],
   "source": [
    "# Function to generate marks data for n students  \n",
    "from random import randint\n",
    "def generateMarks(n, lb, ub):\n",
    "    with open('DataFiles/marks.txt','w') as f:\n",
    "        for i in range(0,n):\n",
    "            r=randint(lb,ub)\n",
    "            f.write(str(r) + '\\n')\n",
    "    return \n",
    "generateMarks(10, 1, 100)"
   ]
  },
  {
   "cell_type": "code",
   "execution_count": 53,
   "metadata": {},
   "outputs": [
    {
     "name": "stdout",
     "output_type": "stream",
     "text": [
      "Average Marks :  46.7\n"
     ]
    }
   ],
   "source": [
    "# Class Average\n",
    "def avg():\n",
    "    c=0\n",
    "    s=0\n",
    "    with open(filepath,'r') as f:\n",
    "        for lines in f:\n",
    "            c+=1\n",
    "            s+=int(lines)\n",
    "    print(\"Average Marks : \",s/c)\n",
    "filepath='Datafiles/marks.txt'\n",
    "avg()"
   ]
  },
  {
   "cell_type": "code",
   "execution_count": 52,
   "metadata": {},
   "outputs": [
    {
     "name": "stdout",
     "output_type": "stream",
     "text": [
      " % passed :  40.0\n"
     ]
    }
   ],
   "source": [
    "# % of students passed\n",
    "def passed():\n",
    "    c=0\n",
    "    pc=0\n",
    "    with open('Datafiles/marks.txt','r') as f:\n",
    "        for lines in f:\n",
    "            c+=1\n",
    "            if int(lines)>=35:\n",
    "                pc+=1\n",
    "    print(\" % passed : \",(pc/c)*100)\n",
    "passed()"
   ]
  },
  {
   "cell_type": "code",
   "execution_count": 51,
   "metadata": {},
   "outputs": [
    {
     "name": "stdout",
     "output_type": "stream",
     "text": [
      " % failed :  60.0\n"
     ]
    }
   ],
   "source": [
    "# % of students failed\n",
    "def failed():\n",
    "    c=0\n",
    "    fc=0\n",
    "    with open('Datafiles/marks.txt','r') as f:\n",
    "        for lines in f:\n",
    "            c+=1\n",
    "            if int(lines)<35:\n",
    "                fc+=1\n",
    "    print(\" % failed : \",(fc/c)*100)\n",
    "failed()"
   ]
  },
  {
   "cell_type": "code",
   "execution_count": 50,
   "metadata": {},
   "outputs": [
    {
     "name": "stdout",
     "output_type": "stream",
     "text": [
      " % distinction :  20.0\n"
     ]
    }
   ],
   "source": [
    "# % of students with distinction\n",
    "def distinction():\n",
    "    c=0\n",
    "    dc=0\n",
    "    with open('Datafiles/marks.txt','r') as f:\n",
    "        for lines in f:\n",
    "            c+=1\n",
    "            if int(lines)>=80:\n",
    "                dc+=1\n",
    "    print(\" % distinction : \",(dc/c)*100)\n",
    "distinction()"
   ]
  },
  {
   "cell_type": "code",
   "execution_count": 48,
   "metadata": {},
   "outputs": [
    {
     "name": "stdout",
     "output_type": "stream",
     "text": [
      "Heighest marks in class :  92\n"
     ]
    }
   ],
   "source": [
    "# Highest Mark \n",
    "def HighestMark():\n",
    "    hm=0\n",
    "    with open('Datafiles/marks.txt','r') as f:\n",
    "        for line in f:\n",
    "            if int(line)>hm:\n",
    "                hm=int(line)\n",
    "        print(\"Heighest marks in class : \",hm)\n",
    "                \n",
    "HighestMark()            \n",
    "            "
   ]
  },
  {
   "cell_type": "code",
   "execution_count": 46,
   "metadata": {},
   "outputs": [
    {
     "name": "stdout",
     "output_type": "stream",
     "text": [
      "lowest marks in class :  17\n"
     ]
    }
   ],
   "source": [
    "def LowestMark():\n",
    "    lm=100\n",
    "    with open('Datafiles/marks.txt','r') as f:\n",
    "        for line in f:\n",
    "            if int(line)<lm:\n",
    "                lm=int(line)\n",
    "        print(\"lowest marks in class : \",lm)\n",
    "                \n",
    "LowestMark()"
   ]
  },
  {
   "cell_type": "code",
   "execution_count": 67,
   "metadata": {},
   "outputs": [
    {
     "name": "stdout",
     "output_type": "stream",
     "text": [
      "Average Marks :  48.5\n",
      " % passed :  60.0\n",
      " % failed :  40.0\n",
      " % distinction :  20.0\n",
      "Heighest marks in class :  91\n",
      "lowest marks in class :  4\n"
     ]
    }
   ],
   "source": [
    "def classReport():\n",
    "        generateMarks(10,1,100)\n",
    "        avg()\n",
    "        passed()\n",
    "        failed()\n",
    "        distinction()\n",
    "        HighestMark() \n",
    "        LowestMark()\n",
    "classReport()"
   ]
  },
  {
   "cell_type": "code",
   "execution_count": null,
   "metadata": {},
   "outputs": [],
   "source": []
  }
 ],
 "metadata": {
  "kernelspec": {
   "display_name": "Python 3",
   "language": "python",
   "name": "python3"
  },
  "language_info": {
   "codemirror_mode": {
    "name": "ipython",
    "version": 3
   },
   "file_extension": ".py",
   "mimetype": "text/x-python",
   "name": "python",
   "nbconvert_exporter": "python",
   "pygments_lexer": "ipython3",
   "version": "3.7.3"
  }
 },
 "nbformat": 4,
 "nbformat_minor": 2
}
