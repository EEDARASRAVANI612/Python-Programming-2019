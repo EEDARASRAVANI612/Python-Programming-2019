{
 "cells": [
  {
   "cell_type": "code",
   "execution_count": null,
   "metadata": {},
   "outputs": [],
   "source": [
    "def factor():\n",
    "    c=0\n",
    "    for i in range(1,int(n[0])):\n",
    "        if int(n[0])%i==0:\n",
    "                if int(n[1])%i==0:\n",
    "                    c=c+1\n",
    "    print(c)\n",
    "    \n",
    "    \n",
    "n=input().split()\n",
    "factor()"
   ]
  },
  {
   "cell_type": "code",
   "execution_count": null,
   "metadata": {},
   "outputs": [],
   "source": []
  },
  {
   "cell_type": "code",
   "execution_count": null,
   "metadata": {},
   "outputs": [],
   "source": [
    "'''\n",
    "# Sample code to perform I/O:\n",
    "\n",
    "name = input()                  # Reading input from STDIN\n",
    "print('Hi, %s.' % name)         # Writing output to STDOUT\n",
    "\n",
    "# Warning: Printing unwanted or ill-formatted data to output will cause the test cases to fail\n",
    "'''\n",
    "\n",
    "# Write your code here\n",
    "fact=[]\n",
    "def factor():\n",
    "    global fact\n",
    "    for i in range(1,minimum+1):\n",
    "        for j in l:\n",
    "            if j%i==0:\n",
    "                fact.append(i)\n",
    "    #print(fact)\n",
    "    uni=list(set(fact))\n",
    "    a=[]\n",
    "    for i in uni:\n",
    "        c=fact.count(i)\n",
    "        if c==len(n):\n",
    "            a.append(c)\n",
    "    print(len(a))\n",
    "\n",
    "n=input().split()\n",
    "l=list(map(int,n))\n",
    "minimum=min(l)\n",
    "factor()"
   ]
  }
 ],
 "metadata": {
  "kernelspec": {
   "display_name": "Python 3",
   "language": "python",
   "name": "python3"
  },
  "language_info": {
   "codemirror_mode": {
    "name": "ipython",
    "version": 3
   },
   "file_extension": ".py",
   "mimetype": "text/x-python",
   "name": "python",
   "nbconvert_exporter": "python",
   "pygments_lexer": "ipython3",
   "version": "3.7.3"
  }
 },
 "nbformat": 4,
 "nbformat_minor": 2
}
